{
  "nbformat": 4,
  "nbformat_minor": 0,
  "metadata": {
    "colab": {
      "provenance": []
    },
    "kernelspec": {
      "name": "python3",
      "display_name": "Python 3"
    },
    "language_info": {
      "name": "python"
    }
  },
  "cells": [
    {
      "cell_type": "code",
      "execution_count": null,
      "metadata": {
        "id": "I51H267igWQa"
      },
      "outputs": [],
      "source": []
    },
    {
      "cell_type": "markdown",
      "source": [
        "** 1. Write a Python program which accepts the radius of a circle from the user\n",
        "and compute the area.\n",
        "Sample input: Enter the radius: 3\n",
        "Sample output: Area of Circle is 28.59999999999 **"
      ],
      "metadata": {
        "id": "5AJOOeW8jh8S"
      }
    },
    {
      "cell_type": "code",
      "source": [
        "r=int(input('Enter the Radius of the Circle '))\n",
        "print('Area of the Circle = ',3.14*r**2)\n",
        "\n"
      ],
      "metadata": {
        "colab": {
          "base_uri": "https://localhost:8080/"
        },
        "id": "uW1IjWg0jr44",
        "outputId": "25ab3c01-1d36-4e35-af67-51f9b6d2b9a7"
      },
      "execution_count": null,
      "outputs": [
        {
          "output_type": "stream",
          "name": "stdout",
          "text": [
            "Enter the Radius of the Circle3\n",
            "Area of the Circle =  28.26\n"
          ]
        }
      ]
    },
    {
      "cell_type": "markdown",
      "source": [
        "**2. Write a Python Program to accept the details of a student like name, roll\n",
        "number and mark and display it.\n",
        "Sample input: Enter the name: Anisha\n",
        "Enter the roll number: 21\n",
        "Enter the mark: 78\n",
        "Sample output: Name: Anisha\n",
        "Roll No: 21\n",
        "Mark: 78\n",
        "**\n"
      ],
      "metadata": {
        "id": "2FHLuS5Pd9sM"
      }
    },
    {
      "cell_type": "code",
      "source": [
        "name=input('Enter the Student name : ')\n",
        "rollno=input(' Enter the roll number : ')\n",
        "mark=input('Enter the Mark : ')\n",
        "print(' Student Details')\n",
        "print(' ---------------')\n",
        "print(' Name     :  ',name )\n",
        "print(' Roll_No  :  ',rollno )\n",
        "print(' Mark     :  ',mark )"
      ],
      "metadata": {
        "colab": {
          "base_uri": "https://localhost:8080/"
        },
        "id": "QXP5O3w4eJ-q",
        "outputId": "1c3a059d-43f5-422b-ea89-fae15bfb5782"
      },
      "execution_count": null,
      "outputs": [
        {
          "output_type": "stream",
          "name": "stdout",
          "text": [
            "Enter the Student name : Sujitha\n",
            " Enter the roll number : 21\n",
            "Enter the Mark : 78\n",
            " Student Details\n",
            " ---------------\n",
            " Name     :   Sujitha\n",
            " Roll_No  :   21\n",
            " Mark     :   78\n"
          ]
        }
      ]
    },
    {
      "cell_type": "markdown",
      "source": [
        "**3.Write a Python program to get the largest number from a list.\n",
        "Sample input: 12, 3, 47, 10\n",
        "Sample output: 47 is the largest number.**"
      ],
      "metadata": {
        "id": "w5UrJxcDgm_i"
      }
    },
    {
      "cell_type": "code",
      "source": [
        "mylist=[45,85,54,68,14,75]\n",
        "print(max(mylist),'is the largest number')\n"
      ],
      "metadata": {
        "colab": {
          "base_uri": "https://localhost:8080/"
        },
        "id": "z_8n-NtcjG2C",
        "outputId": "af084595-e4f1-4e05-8d64-24e13b0aecc7"
      },
      "execution_count": null,
      "outputs": [
        {
          "output_type": "stream",
          "name": "stdout",
          "text": [
            "85 is the largest number\n"
          ]
        }
      ]
    },
    {
      "cell_type": "markdown",
      "source": [
        "**4. Given a range of first 10 numbers, write a Python program to iterate from\n",
        "start number to the end number and print the sum of the current number\n",
        "and previous number.\n",
        "Sample input: 1….10\n",
        "Sample output: Current Number 1 Previous Number 0 Sum: 1 Current\n",
        "Number 2 Previous Number 1 Sum: 3 Current Number 3 Previous\n",
        "Number 2 Sum: 5… Current Number 10 Previous Number 9 Sum: 19**\n"
      ],
      "metadata": {
        "id": "r8NGXwUWiZwJ"
      }
    },
    {
      "cell_type": "code",
      "source": [
        "num=list(range(10))\n",
        "\n",
        "for i in num:\n",
        "  sum=i+(i+1)\n",
        "  print('Current Number :  ',i+1, 'Previous Number  : ',i,' Sum : ',sum)"
      ],
      "metadata": {
        "colab": {
          "base_uri": "https://localhost:8080/"
        },
        "id": "bnR5GZQpifFY",
        "outputId": "2b94104b-8d47-42a3-907d-47a77c994743"
      },
      "execution_count": null,
      "outputs": [
        {
          "output_type": "stream",
          "name": "stdout",
          "text": [
            "Current Number :   1   Previous Number  :  0  Sum :  1\n",
            "Current Number :   2   Previous Number  :  1  Sum :  3\n",
            "Current Number :   3   Previous Number  :  2  Sum :  5\n",
            "Current Number :   4   Previous Number  :  3  Sum :  7\n",
            "Current Number :   5   Previous Number  :  4  Sum :  9\n",
            "Current Number :   6   Previous Number  :  5  Sum :  11\n",
            "Current Number :   7   Previous Number  :  6  Sum :  13\n",
            "Current Number :   8   Previous Number  :  7  Sum :  15\n",
            "Current Number :   9   Previous Number  :  8  Sum :  17\n",
            "Current Number :   10   Previous Number  :  9  Sum :  19\n"
          ]
        }
      ]
    },
    {
      "cell_type": "markdown",
      "source": [
        "**5. Write a Python program to print only those numbers which are divisible\n",
        "of 5.\n",
        "Sample input: 10, 20,33,46,55 Sample output: 10, 20, 55 **"
      ],
      "metadata": {
        "id": "uVTYqTw82af8"
      }
    },
    {
      "cell_type": "code",
      "source": [
        "num=[10,20,33,46,55]\n",
        "for i in num:\n",
        "  if i%5==0:\n",
        "    print(i)\n"
      ],
      "metadata": {
        "colab": {
          "base_uri": "https://localhost:8080/"
        },
        "id": "nzCsA-3l26je",
        "outputId": "c3d00bc3-8fba-43e0-99a4-857e58d0a246"
      },
      "execution_count": null,
      "outputs": [
        {
          "output_type": "stream",
          "name": "stdout",
          "text": [
            "10\n",
            "20\n",
            "55\n"
          ]
        }
      ]
    },
    {
      "cell_type": "markdown",
      "source": [
        "**6. Write a Python program to check whether a number is prime or not.\n",
        "Sample input: Enter the number: 3\n",
        "Sample output: 3 is a prime number.**"
      ],
      "metadata": {
        "id": "HukEHARj9pFe"
      }
    },
    {
      "cell_type": "code",
      "source": [
        "num=int(input('Enter the number : '))\n",
        "prime=0\n",
        "if num == 1:\n",
        " print(num, ' is not a prime number')\n",
        "elif num>1:\n",
        "  for i in range(2,num):\n",
        "   if(num % i)==0:\n",
        "    prime=1\n",
        "   break\n",
        "  if prime==0:\n",
        "   print(num,' is a prime number')\n",
        "  else:\n",
        "    print(num,'is not a Prime number')\n",
        "\n"
      ],
      "metadata": {
        "colab": {
          "base_uri": "https://localhost:8080/"
        },
        "id": "KNyYjiA_9vss",
        "outputId": "1e5c1b27-d410-4140-96b4-c2a0d1bb376a"
      },
      "execution_count": null,
      "outputs": [
        {
          "output_type": "stream",
          "name": "stdout",
          "text": [
            "Enter the number : 61\n",
            "61  is a prime number\n"
          ]
        }
      ]
    },
    {
      "cell_type": "markdown",
      "source": [
        "**7. Write a Python program to reverse a list using for loop.\n",
        "Sample input: 10,40,30,70\n",
        "Sample output: 70,30,40,10**"
      ],
      "metadata": {
        "id": "Sd6Z-fxLFNfT"
      }
    },
    {
      "cell_type": "code",
      "source": [
        "mylist=[10,40,30,70]\n",
        "revlist=[]\n",
        "for i in range(len(mylist)):\n",
        " revlist.append(mylist[-i-1])\n",
        "print(revlist)\n",
        "\n",
        "\n"
      ],
      "metadata": {
        "colab": {
          "base_uri": "https://localhost:8080/"
        },
        "id": "FrdNR6qlFV4E",
        "outputId": "6a54689a-3e75-4244-c7d3-2bb174956fb0"
      },
      "execution_count": null,
      "outputs": [
        {
          "output_type": "stream",
          "name": "stdout",
          "text": [
            "[70, 30, 40, 10]\n"
          ]
        }
      ]
    },
    {
      "cell_type": "markdown",
      "source": [
        "8. Write a Python program to print the following pattern.\n",
        "*\n",
        "**\n",
        "***\n",
        "****"
      ],
      "metadata": {
        "id": "jnLUgZlLNh21"
      }
    },
    {
      "cell_type": "code",
      "source": [
        "n=4\n",
        "\n",
        "for i in range(0,n):\n",
        "  for j in range(0,i+1):\n",
        "      print('*',end=' ')\n",
        "  print()\n",
        "\n"
      ],
      "metadata": {
        "colab": {
          "base_uri": "https://localhost:8080/"
        },
        "id": "zdSOMMIhNu0G",
        "outputId": "558cc17b-21f0-4762-fbcc-1c75cf1b4b4e"
      },
      "execution_count": null,
      "outputs": [
        {
          "output_type": "stream",
          "name": "stdout",
          "text": [
            "* \n",
            "* * \n",
            "* * * \n",
            "* * * * \n"
          ]
        }
      ]
    },
    {
      "cell_type": "markdown",
      "source": [
        "9. Write a Python program to find the maximum of three numbers\n",
        "Sample input: 34,12,7\n",
        "Sample output: 34\n"
      ],
      "metadata": {
        "id": "L2Y4RzvYVrK5"
      }
    },
    {
      "cell_type": "code",
      "source": [
        "num=[34,12,7]\n",
        "print(max(num))"
      ],
      "metadata": {
        "colab": {
          "base_uri": "https://localhost:8080/"
        },
        "id": "zfyaD7WYV6_5",
        "outputId": "a50668cd-6243-4311-83d3-d6da5d29302b"
      },
      "execution_count": null,
      "outputs": [
        {
          "output_type": "stream",
          "name": "stdout",
          "text": [
            "34\n"
          ]
        }
      ]
    },
    {
      "cell_type": "markdown",
      "source": [
        "10. Write a Python program to construct the following pattern, using a\n",
        "nested for loop.\n",
        "*\n",
        "**\n",
        "***\n",
        "****\n",
        "*****\n",
        "****\n",
        "***\n",
        "**\n",
        "*"
      ],
      "metadata": {
        "id": "vqQbQUGwbhHg"
      }
    },
    {
      "cell_type": "code",
      "source": [
        "n=4\n",
        "for i in range(0,n):\n",
        "  for j in range(0,i+1):\n",
        "      print('*',end=' ')\n",
        "  print()\n",
        "for i in range(0,n):\n",
        "  for j in range(i+1,n):\n",
        "      print('*',end=' ')\n",
        "  print()\n"
      ],
      "metadata": {
        "colab": {
          "base_uri": "https://localhost:8080/"
        },
        "id": "pWJbcg0HbpVq",
        "outputId": "75dfd209-226f-493b-eba5-f734aac26db1"
      },
      "execution_count": null,
      "outputs": [
        {
          "output_type": "stream",
          "name": "stdout",
          "text": [
            "* \n",
            "* * \n",
            "* * * \n",
            "* * * * \n",
            "* * * \n",
            "* * \n",
            "* \n",
            "\n"
          ]
        }
      ]
    }
  ]
}